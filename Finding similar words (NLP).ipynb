{
 "cells": [
  {
   "cell_type": "code",
   "execution_count": 12,
   "metadata": {},
   "outputs": [],
   "source": [
    "import re\n",
    "import nltk\n",
    "from nltk.corpus import stopwords, wordnet\n",
    "from nltk.tokenize import word_tokenize\n",
    "from nltk.stem import WordNetLemmatizer\n"
   ]
  },
  {
   "cell_type": "code",
   "execution_count": 31,
   "metadata": {},
   "outputs": [],
   "source": [
    "texts = ['''When Ken Kaneki spotted a charming young woman around his age in the cafe Anteiku, his friend Hideyoshi encouraged him to make a move and try to land a date with her. Ken was a little shy, but he pulled it off, and the cheery Rize couldn't wait to see him again. Soon enough, they bonded over their common interest in books and literary analysis during their date, and as night fell, Rize started acting nervous. She knew that ghouls liked to come out at night to prey on pedestrians, and she wanted Ken to stay close to her. Ken agreed, and they were soon walking alone near a construction site. Ken, still feeling hopeful, commented on how well the date went and that he felt a real connection with Rize. Rize had similar feelings, then decided to act on them.''']"
   ]
  },
  {
   "cell_type": "code",
   "execution_count": 32,
   "metadata": {},
   "outputs": [],
   "source": [
    "def similar_words(texts):\n",
    "    stop_words = set(stopwords.words('english'))\n",
    "    lemmatizer = WordNetLemmatizer()\n",
    "    for text in texts:\n",
    "        synonyms_array = {}\n",
    "        text = re.sub(r'[^a-zA-Z\\s]+', '', text)\n",
    "        text = text.lower()\n",
    "        word_tokens = word_tokenize(text)\n",
    "        filtered_text = []\n",
    "        for word in word_tokens:\n",
    "            if word not in stop_words:\n",
    "                filtered_text.append(word)\n",
    "    #     print(word_tokens)\n",
    "    #     print(filtered_text)\n",
    "        lemmatized_words = []\n",
    "        for word in filtered_text:\n",
    "            lemmatized_words.append(lemmatizer.lemmatize(word))\n",
    "    #     print(lemmatized_words)\n",
    "        for word in lemmatized_words:\n",
    "            synArr = []\n",
    "            sArr = wordnet.synsets(word)\n",
    "            for syn in sArr:\n",
    "                synArr.append(syn.name()[:-5])\n",
    "            synArr = list(set(synArr))\n",
    "            for synonyms in synArr:\n",
    "                if synonyms in lemmatized_words:\n",
    "                    if synonyms != word:\n",
    "                        synonyms_array[word] = synonyms\n",
    "        if bool(synonyms_array):\n",
    "            print(synonyms_array)\n",
    "        else: \n",
    "            print('No synonyms found!')"
   ]
  },
  {
   "cell_type": "code",
   "execution_count": 33,
   "metadata": {},
   "outputs": [
    {
     "name": "stdout",
     "output_type": "stream",
     "text": [
      "{'move': 'act', 'acting': 'act', 'close': 'near', 'went': 'move'}\n"
     ]
    }
   ],
   "source": [
    "similar_words(texts)"
   ]
  },
  {
   "cell_type": "code",
   "execution_count": 34,
   "metadata": {},
   "outputs": [
    {
     "name": "stdout",
     "output_type": "stream",
     "text": [
      "Ken Kaneki awoke in the hospital with one ghoul eye and a strange lack of appetite. He couldn't see his own eye, of course, but he realized that he couldn't stand human food anymore. He was no longer human at all. Dr. Kano had personally transplanted some of Rize's organs into him, transforming him into a rare, and artificial, one-eyed ghoul. Such ghouls are more powerful than conventional ones, and Dr. Kano hoped that ghouls like Ken would realize their true potential and help him break free of the \"cage\" that was the world. In fact, Rize wasn't even dead, although Ken was told that she had died. Rize was elsewhere in an underground laboratory, and she had done her part well. Ken had Rize's kakuho in him now, meaning he could manifest her kagune and fight with her level of strength, if not more. There was no going back now.\n",
      "{'realized': 'realize'}\n"
     ]
    }
   ],
   "source": [
    "text = [input()]\n",
    "similar_words(text)"
   ]
  },
  {
   "cell_type": "code",
   "execution_count": null,
   "metadata": {},
   "outputs": [],
   "source": []
  }
 ],
 "metadata": {
  "kernelspec": {
   "display_name": "Python 3",
   "language": "python",
   "name": "python3"
  },
  "language_info": {
   "codemirror_mode": {
    "name": "ipython",
    "version": 3
   },
   "file_extension": ".py",
   "mimetype": "text/x-python",
   "name": "python",
   "nbconvert_exporter": "python",
   "pygments_lexer": "ipython3",
   "version": "3.7.3"
  }
 },
 "nbformat": 4,
 "nbformat_minor": 2
}
